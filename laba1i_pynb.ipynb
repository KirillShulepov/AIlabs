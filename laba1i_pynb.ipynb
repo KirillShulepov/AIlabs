{
  "nbformat": 4,
  "nbformat_minor": 0,
  "metadata": {
    "colab": {
      "provenance": [],
      "authorship_tag": "ABX9TyNmN74LA6GQYz8eQ4SB3cmX",
      "include_colab_link": true
    },
    "kernelspec": {
      "name": "python3",
      "display_name": "Python 3"
    },
    "language_info": {
      "name": "python"
    }
  },
  "cells": [
    {
      "cell_type": "markdown",
      "metadata": {
        "id": "view-in-github",
        "colab_type": "text"
      },
      "source": [
        "<a href=\"https://colab.research.google.com/github/KirillShulepov/AIlabs/blob/main/laba1i_pynb.ipynb\" target=\"_parent\"><img src=\"https://colab.research.google.com/assets/colab-badge.svg\" alt=\"Open In Colab\"/></a>"
      ]
    },
    {
      "cell_type": "code",
      "execution_count": 11,
      "metadata": {
        "id": "Dq0lFRynlGfJ"
      },
      "outputs": [],
      "source": [
        "import math"
      ]
    },
    {
      "cell_type": "code",
      "source": [
        "def difference_of_two_numbers(first, second):\n",
        "    return first - second\n",
        "assert difference_of_two_numbers(2, 1) == 1\n",
        "assert difference_of_two_numbers(4, 1) == 3\n",
        "assert difference_of_two_numbers(10, 0) == 10\n",
        "assert difference_of_two_numbers(-5, -6) == 1\n"
      ],
      "metadata": {
        "id": "_D-42arulSXH"
      },
      "execution_count": 5,
      "outputs": []
    },
    {
      "cell_type": "code",
      "source": [
        "def condition_function(input_number):\n",
        "\n",
        "    if input_number <= 0:\n",
        "        return input_number * 2\n",
        "    elif 0 < input_number <= 10:\n",
        "        return input_number * 3\n",
        "    else:\n",
        "        return input_number / 10\n",
        "assert condition_function(0) == 0\n",
        "assert condition_function(-1) == -2\n",
        "assert condition_function(1) == 3\n",
        "assert condition_function(10) == 30\n",
        "assert condition_function(11) == 1.1\n",
        "assert condition_function(20) == 2"
      ],
      "metadata": {
        "id": "B2eDxWz1lTp9"
      },
      "execution_count": 6,
      "outputs": []
    },
    {
      "cell_type": "code",
      "source": [
        "def calculator(number_1, operation, number_2):\n",
        "\n",
        "    if operation == \"+\":\n",
        "        return number_1 + number_2\n",
        "    elif operation == \"-\":\n",
        "        return number_1 - number_2\n",
        "    elif operation == \"*\":\n",
        "        return number_1 * number_2\n",
        "    elif operation == \"/\":\n",
        "        if number_2 == 0:\n",
        "            raise ValueError(\"Деление на ноль невозможно\")\n",
        "        return number_1 / number_2\n",
        "    else:\n",
        "        raise ValueError(\"Неподдерживаемая операция\")\n",
        "assert calculator(1, \"+\", 2) == 3\n",
        "assert calculator(3, \"-\", 1) == 2\n",
        "assert calculator(4, \"*\", 3) == 12\n",
        "assert calculator(2, \"/\", 2) == 1"
      ],
      "metadata": {
        "id": "d9CitnKHl277"
      },
      "execution_count": 7,
      "outputs": []
    },
    {
      "cell_type": "code",
      "source": [
        "def number_of_unique_elements(input_list):\n",
        "\n",
        "    unique_elements = set(input_list)\n",
        "    return len(unique_elements)\n",
        "assert number_of_unique_elements([1, 2, 3]) == 3\n",
        "assert number_of_unique_elements([1] * 93) == 1\n",
        "assert number_of_unique_elements(list(range(1000))) == 1000"
      ],
      "metadata": {
        "id": "O7Ed2MlMmCGv"
      },
      "execution_count": 8,
      "outputs": []
    },
    {
      "cell_type": "code",
      "source": [
        "def counter(input_list):\n",
        "\n",
        "    result = {}\n",
        "    for item in input_list:\n",
        "        if item in result:\n",
        "            result[item] += 1\n",
        "        else:\n",
        "            result[item] = 1\n",
        "    return result\n",
        "assert counter([1, 1, 1, 2, 3]) == {1: 3, 2: 1, 3: 1}\n",
        "assert counter([1] * 1000) == {1: 1000}\n",
        "assert counter([1, 3, 5] * 100) == {1: 100, 3: 100, 5: 100}"
      ],
      "metadata": {
        "id": "fZhTlhk-mXj2"
      },
      "execution_count": 9,
      "outputs": []
    },
    {
      "cell_type": "code",
      "source": [
        "def multiply_nums(input_string):\n",
        "\n",
        "    # Разделяем строку на части по запятой\n",
        "    num_strings = input_string.split(',')\n",
        "\n",
        "    # Преобразуем строки в числа\n",
        "    nums = [float(num) for num in num_strings]\n",
        "\n",
        "    # Перемножаем все числа\n",
        "    result = 1\n",
        "    for num in nums:\n",
        "        result *= num\n",
        "\n",
        "    return result\n",
        "assert multiply_nums(\"2, 3\") == 6\n",
        "assert multiply_nums(\"1, 1, 1, 1, 1, 1, 1\") == 1\n",
        "assert multiply_nums(\"345, 4576, 794, 325, 0\") == 0"
      ],
      "metadata": {
        "id": "O-0jAzyimmSX"
      },
      "execution_count": 10,
      "outputs": []
    },
    {
      "cell_type": "code",
      "source": [
        "def custom_function(x):\n",
        "\n",
        "    return math.sin(x) * math.cos(x)\n",
        "assert round(custom_function(1), 3) == 0.455\n",
        "assert round(custom_function(1.5), 3) == 0.071\n",
        "assert round(custom_function(2), 3) == -0.378\n",
        "assert custom_function(0) == 0"
      ],
      "metadata": {
        "id": "lbkNkfcAmt8Q"
      },
      "execution_count": 12,
      "outputs": []
    },
    {
      "cell_type": "code",
      "source": [
        "import math\n",
        "\n",
        "def custom_function_1(x, n):\n",
        "\n",
        "    result = 1\n",
        "    for i in range(1, n + 1):\n",
        "        result *= ((i + 2)**x + math.log(x)) / (x**2 + 4 * i)\n",
        "    return result\n",
        "\n",
        "assert round(custom_function_1(2, 3), 3) == 2.707\n",
        "assert round(custom_function_1(3, 2), 3) == 8.277\n",
        "assert round(custom_function_1(3, 3), 3) == 49.7\n"
      ],
      "metadata": {
        "id": "CbThNAE1nfnU"
      },
      "execution_count": 18,
      "outputs": []
    },
    {
      "cell_type": "code",
      "source": [
        "class Vehicle:\n",
        "    def __init__(self, max_speed, mileage):\n",
        "        self.max_speed = max_speed\n",
        "        self.mileage = mileage\n",
        "\n",
        "# Создаем экземпляры класса и проверяем их атрибуты\n",
        "veh1 = Vehicle(100, 50)\n",
        "assert (veh1.max_speed, veh1.mileage) == (100, 50)\n",
        "\n",
        "veh2 = Vehicle(200, 3)\n",
        "assert (veh2.max_speed, veh2.mileage) == (200, 3)"
      ],
      "metadata": {
        "id": "0A9JljoTrP0T"
      },
      "execution_count": 19,
      "outputs": []
    },
    {
      "cell_type": "code",
      "source": [
        "class Truck(Vehicle):\n",
        "    pass\n",
        "\n",
        "# Создаем экземпляры класса Truck и проверяем их атрибуты\n",
        "truck1 = Truck(50, 1000)\n",
        "assert (truck1.max_speed, truck1.mileage) == (50, 1000)\n",
        "\n",
        "truck2 = Truck(43, 235)\n",
        "assert (truck2.max_speed, truck2.mileage) == (43, 235)"
      ],
      "metadata": {
        "id": "6ATNM_Lms1Ln"
      },
      "execution_count": 20,
      "outputs": []
    },
    {
      "cell_type": "code",
      "source": [
        "class MyList:\n",
        "    def __init__(self, initial_list=None):\n",
        "        # Инициализируем список, если он передан, иначе пустой список\n",
        "        self.data = initial_list if initial_list is not None else []\n",
        "\n",
        "    def return_sum(self):\n",
        "\n",
        "        total = 0\n",
        "        for item in self.data:\n",
        "            total += item\n",
        "        return total\n",
        "\n",
        "    def make_reverse(self):\n",
        "\n",
        "        return self.data[::-1]\n",
        "\n",
        "    def make_slice(self, start, stop):\n",
        "\n",
        "        return self.data[start:stop]\n",
        "\n",
        "# Тесты\n",
        "a = MyList([1, 2, 3, 4])\n",
        "assert a.return_sum() == 10\n",
        "assert a.make_reverse() == [4, 3, 2, 1]\n",
        "assert a.make_slice(0, 2) == [1, 2]\n",
        "\n",
        "b = MyList([5, 6, 6, 5])\n",
        "assert b.return_sum() == 22\n",
        "assert b.make_reverse() == [5, 6, 6, 5]\n",
        "assert b.make_slice(1, 2) == [6]"
      ],
      "metadata": {
        "id": "5BshZOKxs3BI"
      },
      "execution_count": 21,
      "outputs": []
    }
  ]
}